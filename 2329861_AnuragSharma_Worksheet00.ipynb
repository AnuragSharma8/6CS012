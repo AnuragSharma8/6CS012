{
  "nbformat": 4,
  "nbformat_minor": 0,
  "metadata": {
    "colab": {
      "provenance": []
    },
    "kernelspec": {
      "name": "python3",
      "display_name": "Python 3"
    },
    "language_info": {
      "name": "python"
    }
  },
  "cells": [
    {
      "cell_type": "markdown",
      "source": [
        "Student Id : 2329861\n",
        "Student Name : Anurag Sharma\n",
        "Worksheet 00 - AI AND ML"
      ],
      "metadata": {
        "id": "oZeUY0_MjzGF"
      }
    },
    {
      "cell_type": "markdown",
      "source": [
        "Exercise on Functions"
      ],
      "metadata": {
        "id": "-WgMlr4OkDGH"
      }
    },
    {
      "cell_type": "markdown",
      "source": [
        "Task 1 : Create a Python program that converts between different units of measurement."
      ],
      "metadata": {
        "id": "mkve_5evkNFJ"
      }
    },
    {
      "cell_type": "code",
      "source": [
        "def convert_length(value, unit):\n",
        "    \"\"\"\n",
        "    Transform length values between meters and feet.\n",
        "    :param value: The numerical figure that needs conversion.\n",
        "    :param unit: The unit of measurement ('m' for meters, 'ft' for feet).\n",
        "    :return: The corresponding converted value.\n",
        "    \"\"\"\n",
        "    if unit == 'm':\n",
        "        return value * 3.28084  # Change meters to feet\n",
        "    elif unit == 'ft':\n",
        "        return value / 3.28084  # Change feet to meters\n",
        "    else:\n",
        "        raise ValueError(\"Invalid length unit provided.\")\n",
        "\n",
        "def convert_weight(value, unit):\n",
        "    \"\"\"\n",
        "    Transform weight values between kilograms and pounds.\n",
        "    :param value: The numerical figure that needs conversion.\n",
        "    :param unit: The unit of measurement ('kg' for kilograms, 'lbs' for pounds).\n",
        "    :return: The corresponding converted value.\n",
        "    \"\"\"\n",
        "    if unit == 'kg':\n",
        "        return value * 2.20462  # Convert kilograms to pounds\n",
        "    elif unit == 'lbs':\n",
        "        return value / 2.20462  # Convert pounds to kilograms\n",
        "    else:\n",
        "        raise ValueError(\"Invalid weight unit provided.\")\n",
        "\n",
        "def convert_volume(value, unit):\n",
        "    \"\"\"\n",
        "    Transform volume values between liters and gallons.\n",
        "    :param value: The numerical figure that needs conversion.\n",
        "    :param unit: The unit of measurement ('L' for liters, 'gal' for gallons).\n",
        "    :return: The corresponding converted value.\n",
        "    \"\"\"\n",
        "    if unit == 'L':\n",
        "        return value * 0.264172  # Change liters to gallons\n",
        "    elif unit == 'gal':\n",
        "        return value / 0.264172  # Change gallons to liters\n",
        "    else:\n",
        "        raise ValueError(\"Invalid volume unit provided.\")\n",
        "\n",
        "def main():\n",
        "    \"\"\"Core function to manage user interactions and perform conversions.\"\"\"\n",
        "    print(\"Unit Converter: Length, Weight, Volume\")\n",
        "    print(\"1. Length (meters to feet, feet to meters)\")\n",
        "    print(\"2. Weight (kilograms to pounds, pounds to kilograms)\")\n",
        "    print(\"3. Volume (liters to gallons, gallons to liters)\")\n",
        "\n",
        "    try:\n",
        "        choice = int(input(\"Choose a conversion category (1-3): \"))\n",
        "        value = float(input(\"Input the value you wish to convert: \"))\n",
        "\n",
        "        if choice == 1:\n",
        "            unit = input(\"Specify unit ('m' for meters, 'ft' for feet): \").strip().lower()\n",
        "            result = convert_length(value, unit)\n",
        "            new_unit = 'ft' if unit == 'm' else 'm'\n",
        "        elif choice == 2:\n",
        "            unit = input(\"Specify unit ('kg' for kilograms, 'lbs' for pounds): \").strip().lower()\n",
        "            result = convert_weight(value, unit)\n",
        "            new_unit = 'lbs' if unit == 'kg' else 'kg'\n",
        "        elif choice == 3:\n",
        "            unit = input(\"Specify unit ('L' for liters, 'gal' for gallons): \").strip().lower()\n",
        "            result = convert_volume(value, unit)\n",
        "            new_unit = 'gal' if unit == 'L' else 'L'\n",
        "        else:\n",
        "            print(\"Invalid option. Please select a number between 1 and 3.\")\n",
        "            return\n",
        "\n",
        "        print(f\"Converted result: {result:.2f} {new_unit}\")\n",
        "\n",
        "    except ValueError as e:\n",
        "        print(f\"Error encountered: {e}. Ensure proper input.\")\n",
        "\n",
        "if __name__ == \"__main__\":\n",
        "    main()\n"
      ],
      "metadata": {
        "colab": {
          "base_uri": "https://localhost:8080/"
        },
        "id": "JJS4NIzHkaEs",
        "outputId": "d548d6af-54cd-4c80-fa5f-124fd6b9e241"
      },
      "execution_count": 1,
      "outputs": [
        {
          "output_type": "stream",
          "name": "stdout",
          "text": [
            "Unit Converter: Length, Weight, Volume\n",
            "1. Length (meters to feet, feet to meters)\n",
            "2. Weight (kilograms to pounds, pounds to kilograms)\n",
            "3. Volume (liters to gallons, gallons to liters)\n",
            "Choose a conversion category (1-3): 1\n",
            "Input the value you wish to convert: 1\n",
            "Specify unit ('m' for meters, 'ft' for feet): ft\n",
            "Converted result: 0.30 m\n"
          ]
        }
      ]
    },
    {
      "cell_type": "markdown",
      "source": [
        "Task 2 : Create a Python program that performs various mathematical operations on a list of numbers."
      ],
      "metadata": {
        "id": "oEkOQ9uGlFzx"
      }
    },
    {
      "cell_type": "code",
      "source": [
        "def calculate_sum(numbers):\n",
        "    \"\"\"\n",
        "    Compute the total sum of a given list of numbers.\n",
        "    :param numbers: A collection of numerical values.\n",
        "    :return: The computed sum.\n",
        "    \"\"\"\n",
        "    return sum(numbers)\n",
        "\n",
        "def calculate_average(numbers):\n",
        "    \"\"\"\n",
        "    Compute the average from a list of numbers.\n",
        "    :param numbers: A collection of numerical values.\n",
        "    :return: The computed average.\n",
        "    \"\"\"\n",
        "    return sum(numbers) / len(numbers) if numbers else 0  # Avoids division by zero\n",
        "\n",
        "def find_maximum(numbers):\n",
        "    \"\"\"\n",
        "    Identify the highest number in a given list.\n",
        "    :param numbers: A collection of numerical values.\n",
        "    :return: The highest value found.\n",
        "    \"\"\"\n",
        "    return max(numbers)\n",
        "\n",
        "def find_minimum(numbers):\n",
        "    \"\"\"\n",
        "    Identify the smallest number in a given list.\n",
        "    :param numbers: A collection of numerical values.\n",
        "    :return: The lowest value found.\n",
        "    \"\"\"\n",
        "    return min(numbers)\n",
        "\n",
        "def main():\n",
        "    \"\"\"Primary function to accept user input and execute chosen operations.\"\"\"\n",
        "    print(\"Mathematical Operations on a List of Numbers\")\n",
        "    print(\"1. Sum\")\n",
        "    print(\"2. Average\")\n",
        "    print(\"3. Maximum\")\n",
        "    print(\"4. Minimum\")\n",
        "\n",
        "    try:\n",
        "        choice = int(input(\"Select an operation (1-4): \"))\n",
        "        numbers = list(map(float, input(\"Enter numbers separated by spaces: \").split()))\n",
        "\n",
        "        if not numbers:\n",
        "            raise ValueError(\"List is empty. Please enter at least one number.\")\n",
        "\n",
        "        if choice == 1:\n",
        "            result = calculate_sum(numbers)\n",
        "            operation = \"Sum\"\n",
        "        elif choice == 2:\n",
        "            result = calculate_average(numbers)\n",
        "            operation = \"Average\"\n",
        "        elif choice == 3:\n",
        "            result = find_maximum(numbers)\n",
        "            operation = \"Maximum\"\n",
        "        elif choice == 4:\n",
        "            result = find_minimum(numbers)\n",
        "            operation = \"Minimum\"\n",
        "        else:\n",
        "            print(\"Invalid option. Please select a number between 1 and 4.\")\n",
        "            return\n",
        "\n",
        "        print(f\"{operation}: {result:.2f}\")\n",
        "\n",
        "    except ValueError as e:\n",
        "        print(f\"Error: {e}. Ensure you enter valid numeric input.\")\n",
        "\n",
        "if __name__ == \"__main__\":\n",
        "    main()\n"
      ],
      "metadata": {
        "colab": {
          "base_uri": "https://localhost:8080/"
        },
        "id": "qBOxTDmZlPl1",
        "outputId": "637de761-b3ba-41bf-8f0c-41ab9b9396f8"
      },
      "execution_count": 2,
      "outputs": [
        {
          "output_type": "stream",
          "name": "stdout",
          "text": [
            "Mathematical Operations on a List of Numbers\n",
            "1. Sum\n",
            "2. Average\n",
            "3. Maximum\n",
            "4. Minimum\n",
            "Select an operation (1-4): 2\n",
            "Enter numbers separated by spaces: 2 229\n",
            "Average: 115.50\n"
          ]
        }
      ]
    },
    {
      "cell_type": "markdown",
      "source": [
        "Exercise on List Manipulation"
      ],
      "metadata": {
        "id": "6yxD5CnilnLw"
      }
    },
    {
      "cell_type": "markdown",
      "source": [
        "Task 1 : Write a Python fuction that extracts every othrt elememt from a list, starting from the first element."
      ],
      "metadata": {
        "id": "CkrtshNelrgA"
      }
    },
    {
      "cell_type": "code",
      "source": [
        "def extract_every_other(lst):\n",
        "    \"\"\"\n",
        "    Retrieve every alternate element from the provided list, beginning with the first item.\n",
        "    :param lst: A sequence of elements.\n",
        "    :return: A new list containing every alternate element.\n",
        "    \"\"\"\n",
        "    return lst[::2]  # Utilizing slicing to fetch every other element\n",
        "\n",
        "# Demonstration\n",
        "input_list = [1, 2, 3, 4, 5, 6]\n",
        "output_list = extract_every_other(input_list)\n",
        "print(\"Output:\", output_list)  # Output: [1, 3, 5]\n"
      ],
      "metadata": {
        "colab": {
          "base_uri": "https://localhost:8080/"
        },
        "id": "LmL8HI1il3zJ",
        "outputId": "899e6ca2-4d03-4625-ec3f-07de6bda0823"
      },
      "execution_count": 3,
      "outputs": [
        {
          "output_type": "stream",
          "name": "stdout",
          "text": [
            "Output: [1, 3, 5]\n"
          ]
        }
      ]
    },
    {
      "cell_type": "markdown",
      "source": [
        "Task 2 : Write a Python function that returns a sublist from a given list, starting from a specified index and ending at another specifed index."
      ],
      "metadata": {
        "id": "GI9kDlP1mFPY"
      }
    },
    {
      "cell_type": "code",
      "source": [
        "def get_sublist(lst, start, end):\n",
        "    \"\"\"\n",
        "    Extract a portion of the list from a specified start index to an end index (inclusive).\n",
        "    :param lst: A sequence of elements.\n",
        "    :param start: The beginning index.\n",
        "    :param end: The ending index.\n",
        "    :return: A sublist spanning from start to end (inclusive).\n",
        "    \"\"\"\n",
        "    return lst[start:end+1]  # Slicing to ensure the end index is included\n",
        "\n",
        "# Demonstration\n",
        "input_list = [1, 2, 3, 4, 5, 6]\n",
        "start_index = 2\n",
        "end_index = 4\n",
        "output_sublist = get_sublist(input_list, start_index, end_index)\n",
        "print(\"Output:\", output_sublist)  # Output: [3, 4, 5]"
      ],
      "metadata": {
        "colab": {
          "base_uri": "https://localhost:8080/"
        },
        "id": "VUS2mkBmmVi2",
        "outputId": "d22f9b6f-a721-454f-f61f-6b03717263f0"
      },
      "execution_count": 4,
      "outputs": [
        {
          "output_type": "stream",
          "name": "stdout",
          "text": [
            "Output: [3, 4, 5]\n"
          ]
        }
      ]
    },
    {
      "cell_type": "markdown",
      "source": [
        "Task 3 : Write a Python fuction that reverses a list using slicing."
      ],
      "metadata": {
        "id": "zNk6hEpemgJq"
      }
    },
    {
      "cell_type": "code",
      "source": [
        "def reverse_list(lst):\n",
        "    \"\"\"\n",
        "    Reverse the order of elements in the given list using slicing.\n",
        "    :param lst: A sequence of elements.\n",
        "    :return: A new list with elements in reverse order.\n",
        "    \"\"\"\n",
        "    return lst[::-1]  # Utilizing slicing to reverse the list\n",
        "\n",
        "# Demonstration\n",
        "input_list = [1, 2, 3, 4, 5]\n",
        "output_list = reverse_list(input_list)\n",
        "print(\"Output:\", output_list)  # Output: [5, 4, 3, 2, 1]\n"
      ],
      "metadata": {
        "colab": {
          "base_uri": "https://localhost:8080/"
        },
        "id": "3Kvn-UQUmoN-",
        "outputId": "4604eb10-08e9-4446-bf46-f5101c5485a2"
      },
      "execution_count": 5,
      "outputs": [
        {
          "output_type": "stream",
          "name": "stdout",
          "text": [
            "Output: [5, 4, 3, 2, 1]\n"
          ]
        }
      ]
    },
    {
      "cell_type": "markdown",
      "source": [
        "Task 4 : Write a Python fuction that removes the first and last elements of a list and returns the resulting sublist."
      ],
      "metadata": {
        "id": "PHg_sR6Dm0e1"
      }
    },
    {
      "cell_type": "code",
      "source": [
        "def remove_first_last(lst):\n",
        "    \"\"\"\n",
        "    Remove the first and last elements from the list and return the resulting sublist.\n",
        "    :param lst: List of elements.\n",
        "    :return: Sublist without the first and last elements.\n",
        "    \"\"\"\n",
        "    return lst[1:-1]  # Slicing to remove the first and last elements\n",
        "\n",
        "# Example usage\n",
        "input_list = [1, 2, 3, 4, 5]\n",
        "output_list = remove_first_last(input_list)\n",
        "print(\"Output:\", output_list)  # Output: [2, 3, 4]\n"
      ],
      "metadata": {
        "colab": {
          "base_uri": "https://localhost:8080/"
        },
        "id": "NsbMkY7bm-jJ",
        "outputId": "fe2a8db1-7171-421d-b2b5-922356d957f3"
      },
      "execution_count": 7,
      "outputs": [
        {
          "output_type": "stream",
          "name": "stdout",
          "text": [
            "Output: [2, 3, 4]\n"
          ]
        }
      ]
    },
    {
      "cell_type": "markdown",
      "source": [
        "Task 5 : Write a Python function that extracts the first n elements from a list."
      ],
      "metadata": {
        "id": "kvvoNUc9nVHe"
      }
    },
    {
      "cell_type": "code",
      "source": [
        "def get_first_n(lst, n):\n",
        "    \"\"\"\n",
        "    Retrieve the first n elements from the given list using slicing.\n",
        "    :param lst: A sequence of elements.\n",
        "    :param n: The number of elements to extract.\n",
        "    :return: A new list containing the first n elements.\n",
        "    \"\"\"\n",
        "    return lst[:n]  # Utilizing slicing to extract the first n elements\n",
        "\n",
        "# Demonstration\n",
        "input_list = [1, 2, 3, 4, 5]\n",
        "n = 3\n",
        "output_list = get_first_n(input_list, n)\n",
        "print(\"Output:\", output_list)  # Output: [1, 2, 3]"
      ],
      "metadata": {
        "colab": {
          "base_uri": "https://localhost:8080/"
        },
        "id": "9nHEerxondEO",
        "outputId": "d5e938e5-5abb-4f34-97a2-775156c1affe"
      },
      "execution_count": 8,
      "outputs": [
        {
          "output_type": "stream",
          "name": "stdout",
          "text": [
            "Output: [1, 2, 3]\n"
          ]
        }
      ]
    },
    {
      "cell_type": "markdown",
      "source": [
        "Task 6 : Write a Python fuctions that extracts the first n elements from a list."
      ],
      "metadata": {
        "id": "0dmrVraJnlM6"
      }
    },
    {
      "cell_type": "code",
      "source": [
        "def get_last_n(lst, n):\n",
        "    \"\"\"\n",
        "    Retrieve the last n elements from the given list using slicing.\n",
        "    :param lst: A sequence of elements.\n",
        "    :param n: The number of elements to extract from the end.\n",
        "    :return: A new list containing the last n elements.\n",
        "    \"\"\"\n",
        "    return lst[-n:]  # Utilizing slicing to extract the last n elements\n",
        "\n",
        "# Demonstration\n",
        "input_list = [1, 2, 3, 4, 5]\n",
        "n = 2\n",
        "output_list = get_last_n(input_list, n)\n",
        "print(\"Output:\", output_list)  # Output: [4, 5]\n"
      ],
      "metadata": {
        "colab": {
          "base_uri": "https://localhost:8080/"
        },
        "id": "GdhAimJHnxPc",
        "outputId": "5b20376d-518a-4cab-b16d-0ecfe25271de"
      },
      "execution_count": 9,
      "outputs": [
        {
          "output_type": "stream",
          "name": "stdout",
          "text": [
            "Output: [4, 5]\n"
          ]
        }
      ]
    },
    {
      "cell_type": "markdown",
      "source": [
        "Task 7 : Write a Python function that extrats a list of elements in reverse order starting from the second-to-last element and skippig one element in between."
      ],
      "metadata": {
        "id": "yXFyE9nCn2V3"
      }
    },
    {
      "cell_type": "code",
      "source": [
        "def reverse_skip(lst):\n",
        "    \"\"\"\n",
        "    Extract every second element starting from the second-to-last element and moving backward.\n",
        "    :param lst: List of elements.\n",
        "    :return: A list of every second element in reverse order starting from the second-to-last.\n",
        "    \"\"\"\n",
        "    return lst[-2::-2]  # Slicing to get every second element starting from the second-to-last, moving backward\n",
        "\n",
        "# Example usage\n",
        "input_list = [1, 2, 3, 4, 5, 6]\n",
        "output_list = reverse_skip(input_list)\n",
        "print(\"Output:\", output_list)  # Output: [5, 3, 1]\n"
      ],
      "metadata": {
        "colab": {
          "base_uri": "https://localhost:8080/"
        },
        "id": "EwdoKUl2oHhP",
        "outputId": "c40a57a7-e16c-4d9a-d188-ed54e1f58b9a"
      },
      "execution_count": 10,
      "outputs": [
        {
          "output_type": "stream",
          "name": "stdout",
          "text": [
            "Output: [5, 3, 1]\n"
          ]
        }
      ]
    },
    {
      "cell_type": "markdown",
      "source": [
        "Exercise on Nested Loops"
      ],
      "metadata": {
        "id": "Oz0GrvciosQK"
      }
    },
    {
      "cell_type": "markdown",
      "source": [
        "Task 1 : Write a Python fuctions that takes a nested list and flattens it into a single list, where all the elements are in a single dimension."
      ],
      "metadata": {
        "id": "hEXrcM12ovnj"
      }
    },
    {
      "cell_type": "code",
      "source": [
        "def flatten(lst):\n",
        "    \"\"\"\n",
        "    Convert a nested list into a single-level list.\n",
        "    :param lst: A nested list containing elements or other lists.\n",
        "    :return: A new list with all elements flattened.\n",
        "    \"\"\"\n",
        "    flattened = []\n",
        "    for item in lst:\n",
        "        if isinstance(item, list):\n",
        "            flattened.extend(flatten(item))  # Recursively process nested lists\n",
        "        else:\n",
        "            flattened.append(item)\n",
        "    return flattened\n",
        "\n",
        "# Demonstration\n",
        "nested_list = [[1, 2], [3, 4], [5]]\n",
        "output = flatten(nested_list)\n",
        "print(\"Output:\", output)  # Output: [1, 2, 3, 4, 5]"
      ],
      "metadata": {
        "colab": {
          "base_uri": "https://localhost:8080/"
        },
        "id": "QLOe6LwZo-BS",
        "outputId": "f794868f-f10e-43f2-e0d6-11d0f28daeb1"
      },
      "execution_count": 11,
      "outputs": [
        {
          "output_type": "stream",
          "name": "stdout",
          "text": [
            "Output: [1, 2, 3, 4, 5]\n"
          ]
        }
      ]
    },
    {
      "cell_type": "markdown",
      "source": [
        "Task 2 : Write a Python functions that extracts a specific element from a nested list given its indices."
      ],
      "metadata": {
        "id": "lo4HhvcKpiBp"
      }
    },
    {
      "cell_type": "code",
      "source": [
        "def access_nested_element(lst, indices):\n",
        "    \"\"\"\n",
        "    Retrieve an element from a nested list using a sequence of indices.\n",
        "    :param lst: A multi-dimensional list.\n",
        "    :param indices: A list of indices specifying the path to the element.\n",
        "    :return: The element located at the given indices.\n",
        "    \"\"\"\n",
        "    for index in indices:\n",
        "        lst = lst[index]  # Traverse the nested list using provided indices\n",
        "    return lst\n",
        "\n",
        "# Demonstration\n",
        "nested_list = [[1, 2, 3], [4, 5, 6], [7, 8, 9]]\n",
        "indices = [1, 2]\n",
        "output = access_nested_element(nested_list, indices)\n",
        "print(\"Output:\", output)  # Output: 6"
      ],
      "metadata": {
        "colab": {
          "base_uri": "https://localhost:8080/"
        },
        "id": "UFMjVhFCp1pS",
        "outputId": "1e654180-3209-4370-81b2-3135d22eda83"
      },
      "execution_count": 12,
      "outputs": [
        {
          "output_type": "stream",
          "name": "stdout",
          "text": [
            "Output: 6\n"
          ]
        }
      ]
    },
    {
      "cell_type": "markdown",
      "source": [
        "Task 3 : Write a Python function that calculates the sum of all the numbers in a nested list (regardless of depth)."
      ],
      "metadata": {
        "id": "Sb8QupXoqBK6"
      }
    },
    {
      "cell_type": "code",
      "source": [
        "def sum_nested(lst):\n",
        "    \"\"\"\n",
        "    Calculate the sum of all elements in a nested list (regardless of depth).\n",
        "    :param lst: Nested list of numbers.\n",
        "    :return: Sum of all elements.\n",
        "    \"\"\"\n",
        "    return sum(sum_nested(item) if isinstance(item, list) else item for item in lst)\n",
        "\n",
        "# Example usage\n",
        "nested_list = [[1, 2], [3, [4, 5]], 6]\n",
        "output = sum_nested(nested_list)\n",
        "print(\"Output:\", output)  # Output: 21\n"
      ],
      "metadata": {
        "colab": {
          "base_uri": "https://localhost:8080/"
        },
        "id": "g3EjTb6iqPoJ",
        "outputId": "d51ac850-53b4-40f9-d0e5-952824c4f210"
      },
      "execution_count": 13,
      "outputs": [
        {
          "output_type": "stream",
          "name": "stdout",
          "text": [
            "Output: 21\n"
          ]
        }
      ]
    },
    {
      "cell_type": "markdown",
      "source": [
        "Task 4 : Write a Python Function that removes all the occurances of a specific element from a nested list."
      ],
      "metadata": {
        "id": "lywdZGrEqfLY"
      }
    },
    {
      "cell_type": "code",
      "source": [
        "def remove_element(lst, elem):\n",
        "    \"\"\"\n",
        "    Recursively traverse a nested list and eliminate all instances of the specified element.\n",
        "    :param lst: The nested list to process.\n",
        "    :param elem: The element to remove from the list.\n",
        "    :return: A new list with all occurrences of 'elem' removed.\n",
        "    \"\"\"\n",
        "    if isinstance(lst, list):\n",
        "        # For each item in the list, apply remove_element recursively, unless it's the element to remove\n",
        "        return [remove_element(item, elem) for item in lst if item != elem]\n",
        "    return lst\n",
        "\n",
        "# Example usage\n",
        "nested_list = [[1, 2], [3, 2], [4, 5]]\n",
        "elem = 2\n",
        "output = remove_element(nested_list, elem)\n",
        "print(\"Output:\", output)  # Output: [[1], [3], [4, 5]]\n"
      ],
      "metadata": {
        "colab": {
          "base_uri": "https://localhost:8080/"
        },
        "id": "ZjJrafK-qqdI",
        "outputId": "34aa266c-a242-4854-f109-466f8efc9725"
      },
      "execution_count": 14,
      "outputs": [
        {
          "output_type": "stream",
          "name": "stdout",
          "text": [
            "Output: [[1], [3], [4, 5]]\n"
          ]
        }
      ]
    },
    {
      "cell_type": "markdown",
      "source": [
        "Task 5 : Write a Python Function that finds the maximun element in a nested list (regardless of deepth)."
      ],
      "metadata": {
        "id": "WnGTEJfrq2ZH"
      }
    },
    {
      "cell_type": "code",
      "source": [
        "def find_max(lst):\n",
        "    \"\"\"\n",
        "    Recursively determine the largest element in a potentially nested list.\n",
        "    :param lst: The nested list to examine.\n",
        "    :return: The maximum value found in the list, even within nested sublists.\n",
        "    \"\"\"\n",
        "    max_element = float('-inf')  # Start with the smallest possible value\n",
        "    for item in lst:\n",
        "        if isinstance(item, list):\n",
        "            # If item is a list, dive deeper and compare the maximum values\n",
        "            max_element = max(max_element, find_max(item))\n",
        "        else:\n",
        "            # For non-list elements, simply compare to find the largest\n",
        "            max_element = max(max_element, item)\n",
        "    return max_element\n",
        "\n",
        "# Example usage\n",
        "nested_list = [[1, 2], [3, [4, 5]], 6]\n",
        "output = find_max(nested_list)\n",
        "print(\"Output:\", output)  # Output: 6\n"
      ],
      "metadata": {
        "colab": {
          "base_uri": "https://localhost:8080/"
        },
        "id": "uppwuSQSrBSE",
        "outputId": "4adb8aa3-4ddf-4a10-817e-ba5d7066ad34"
      },
      "execution_count": 15,
      "outputs": [
        {
          "output_type": "stream",
          "name": "stdout",
          "text": [
            "Output: 6\n"
          ]
        }
      ]
    },
    {
      "cell_type": "markdown",
      "source": [
        "Task 6 : Write a Python function that counts how many times a specific appears in a nested list."
      ],
      "metadata": {
        "id": "6g6mNuAprKCB"
      }
    },
    {
      "cell_type": "code",
      "source": [
        "def count_occurrences(lst, elem):\n",
        "    \"\"\"\n",
        "    Recursively count the number of times a given element appears within a nested list.\n",
        "    :param lst: The list to search through, which can contain other lists.\n",
        "    :param elem: The element whose occurrences are to be counted.\n",
        "    :return: The total count of occurrences of the element in the list.\n",
        "    \"\"\"\n",
        "    count = 0\n",
        "    for item in lst:\n",
        "        if isinstance(item, list):\n",
        "            # If the item is a sublist, search within it recursively\n",
        "            count += count_occurrences(item, elem)\n",
        "        elif item == elem:\n",
        "            # Increment count for each match with the target element\n",
        "            count += 1\n",
        "    return count\n",
        "\n",
        "# Example usage\n",
        "nested_list = [[1, 2], [2, 3], [2, 4]]\n",
        "elem = 2\n",
        "output = count_occurrences(nested_list, elem)\n",
        "print(\"Output:\", output)  # Output: 3\n"
      ],
      "metadata": {
        "colab": {
          "base_uri": "https://localhost:8080/"
        },
        "id": "4pLLf7BgrUKP",
        "outputId": "e2d84b04-70e2-4635-9d27-ab1aec115666"
      },
      "execution_count": 16,
      "outputs": [
        {
          "output_type": "stream",
          "name": "stdout",
          "text": [
            "Output: 3\n"
          ]
        }
      ]
    },
    {
      "cell_type": "markdown",
      "source": [
        "Task 7 : Write a Python function that flattens a list of lists of lists into a single list, regardless of deepth."
      ],
      "metadata": {
        "id": "U55j_Bvnrjh4"
      }
    },
    {
      "cell_type": "code",
      "source": [
        "def deep_flatten(lst):\n",
        "    \"\"\"\n",
        "    Recursively flatten a deeply nested list of lists into a single, flat list.\n",
        "    :param lst: The nested list to flatten, which can contain any level of sublists.\n",
        "    :return: A single, flat list containing all the elements.\n",
        "    \"\"\"\n",
        "    flattened = []\n",
        "    for item in lst:\n",
        "        if isinstance(item, list):\n",
        "            # For sublists, apply flattening recursively\n",
        "            flattened.extend(deep_flatten(item))\n",
        "        else:\n",
        "            # For non-list items, append them directly to the result\n",
        "            flattened.append(item)\n",
        "    return flattened\n",
        "\n",
        "# Example usage\n",
        "nested_list = [[[1, 2], [3, 4]], [[5, 6], [7, 8]]]\n",
        "output = deep_flatten(nested_list)\n",
        "print(\"Output:\", output)  # Output: [1, 2, 3, 4, 5, 6, 7, 8]\n"
      ],
      "metadata": {
        "colab": {
          "base_uri": "https://localhost:8080/"
        },
        "id": "-bXFMvo0ru-P",
        "outputId": "4f79fc35-c7f0-41f3-9fc7-05c185d55545"
      },
      "execution_count": 17,
      "outputs": [
        {
          "output_type": "stream",
          "name": "stdout",
          "text": [
            "Output: [1, 2, 3, 4, 5, 6, 7, 8]\n"
          ]
        }
      ]
    },
    {
      "cell_type": "markdown",
      "source": [
        "Task 8 : Write a Python Function that calculates the average of all elements in a nested list."
      ],
      "metadata": {
        "id": "HYJWaYDMr10R"
      }
    },
    {
      "cell_type": "code",
      "source": [
        "def average_nested(lst):\n",
        "    \"\"\"\n",
        "    Calculate the average of all elements in a nested list.\n",
        "    :param lst: Nested list of numbers.\n",
        "    :return: The average of all elements.\n",
        "    \"\"\"\n",
        "    total, count = 0, 0\n",
        "    for item in lst:\n",
        "        if isinstance(item, list):\n",
        "            sub_total, sub_count = average_nested(item)  # Recursively get sum and count\n",
        "            total += sub_total\n",
        "            count += sub_count\n",
        "        else:\n",
        "            total += item\n",
        "            count += 1\n",
        "    return total, count  # Return both total and count\n",
        "\n",
        "# Example usage\n",
        "nested_list = [[1, 2], [3, 4], [5, 6]]\n",
        "total, count = average_nested(nested_list)\n",
        "average = total / count if count else 0  # Avoid division by zero\n",
        "print(\"Average:\", average)  # Output: 3.5\n"
      ],
      "metadata": {
        "colab": {
          "base_uri": "https://localhost:8080/"
        },
        "id": "T_HAi036sKzG",
        "outputId": "e5ea9a34-4f4d-4b32-c1ef-885ae45a94eb"
      },
      "execution_count": 18,
      "outputs": [
        {
          "output_type": "stream",
          "name": "stdout",
          "text": [
            "Average: 3.5\n"
          ]
        }
      ]
    },
    {
      "cell_type": "markdown",
      "source": [
        "TO-do Numpy\n"
      ],
      "metadata": {
        "id": "itJIbufhsPhA"
      }
    },
    {
      "cell_type": "markdown",
      "source": [
        "Problem 1 : Array Creation\n"
      ],
      "metadata": {
        "id": "y4VGSIJwsnEq"
      }
    },
    {
      "cell_type": "markdown",
      "source": [
        "Task 1 : Initialize an empty array with sizw 2*2:"
      ],
      "metadata": {
        "id": "RVgHbZjGstmi"
      }
    },
    {
      "cell_type": "code",
      "source": [
        "import numpy as np\n",
        "empty_array = np.empty((2, 2))\n",
        "print(\"Empty Array:\\n\", empty_array)\n"
      ],
      "metadata": {
        "colab": {
          "base_uri": "https://localhost:8080/"
        },
        "id": "9Ml-1h_-swkt",
        "outputId": "00aac09b-19da-41f5-a7d9-adc0a1a417cb"
      },
      "execution_count": 19,
      "outputs": [
        {
          "output_type": "stream",
          "name": "stdout",
          "text": [
            "Empty Array:\n",
            " [[2.10715747e-316 0.00000000e+000]\n",
            " [6.54829267e-310 6.54829267e-310]]\n"
          ]
        }
      ]
    },
    {
      "cell_type": "markdown",
      "source": [
        "Task 2 : Initialize an empty array with size 4*2:"
      ],
      "metadata": {
        "id": "P0g3wfrss4o4"
      }
    },
    {
      "cell_type": "code",
      "source": [
        "ones_array = np.ones((4, 2))\n",
        "print(\"Ones Array:\\n\", ones_array)"
      ],
      "metadata": {
        "colab": {
          "base_uri": "https://localhost:8080/"
        },
        "id": "VxCXSVVDtAvo",
        "outputId": "f65fdf63-d7c1-4ea2-acae-1a1bb59bd97e"
      },
      "execution_count": 20,
      "outputs": [
        {
          "output_type": "stream",
          "name": "stdout",
          "text": [
            "Ones Array:\n",
            " [[1. 1.]\n",
            " [1. 1.]\n",
            " [1. 1.]\n",
            " [1. 1.]]\n"
          ]
        }
      ]
    },
    {
      "cell_type": "markdown",
      "source": [
        "Task 3 : Return a new array of a given shape and type, filled with a fill value:"
      ],
      "metadata": {
        "id": "IpfOKz3JtFty"
      }
    },
    {
      "cell_type": "code",
      "source": [
        "filled_array = np.full((3, 3), 7)\n",
        "print(\"Filled Array:\\n\", filled_array)"
      ],
      "metadata": {
        "colab": {
          "base_uri": "https://localhost:8080/"
        },
        "id": "tIP9FEI_tPA1",
        "outputId": "26ebeb57-89c2-4af3-95c8-94a6102f624f"
      },
      "execution_count": 22,
      "outputs": [
        {
          "output_type": "stream",
          "name": "stdout",
          "text": [
            "Filled Array:\n",
            " [[7 7 7]\n",
            " [7 7 7]\n",
            " [7 7 7]]\n"
          ]
        }
      ]
    },
    {
      "cell_type": "markdown",
      "source": [
        "Task 4 : Return a new array of zeros with the same shape and type as a given array:"
      ],
      "metadata": {
        "id": "Uvz0FRIytofh"
      }
    },
    {
      "cell_type": "code",
      "source": [
        "template_array = np.array([[1, 2], [3, 4]])\n",
        "zeros_array = np.zeros_like(template_array)\n",
        "print(\"Zeros Array with Same Shape and Type:\\n\", zeros_array)\n"
      ],
      "metadata": {
        "colab": {
          "base_uri": "https://localhost:8080/"
        },
        "id": "cn89ykPnuMFZ",
        "outputId": "bc4c3e45-8176-45ae-b6f2-3ac33abb705f"
      },
      "execution_count": 23,
      "outputs": [
        {
          "output_type": "stream",
          "name": "stdout",
          "text": [
            "Zeros Array with Same Shape and Type:\n",
            " [[0 0]\n",
            " [0 0]]\n"
          ]
        }
      ]
    },
    {
      "cell_type": "markdown",
      "source": [
        "Task 5 : Return a new array of ones with the same shape type as a given array:"
      ],
      "metadata": {
        "id": "eTYG3Ve9uPmm"
      }
    },
    {
      "cell_type": "code",
      "source": [
        "ones_like_array = np.ones_like(template_array)\n",
        "print(\"Ones Array with Same Shape and Type:\\n\", ones_like_array)\n"
      ],
      "metadata": {
        "colab": {
          "base_uri": "https://localhost:8080/"
        },
        "id": "HQDBVqwgubcJ",
        "outputId": "ea131a41-203d-4dd2-d920-d07c264d6df6"
      },
      "execution_count": 24,
      "outputs": [
        {
          "output_type": "stream",
          "name": "stdout",
          "text": [
            "Ones Array with Same Shape and Type:\n",
            " [[1 1]\n",
            " [1 1]]\n"
          ]
        }
      ]
    },
    {
      "cell_type": "markdown",
      "source": [
        "Task 6 : Convert an existing list new_list = [1,2,3,4] to a numpy array:"
      ],
      "metadata": {
        "id": "HSeFJBAyugGC"
      }
    },
    {
      "cell_type": "code",
      "source": [
        "new_list = [1, 2, 3, 4]\n",
        "numpy_array = np.array(new_list)\n",
        "print(\"Numpy Array:\\n\", numpy_array)\n"
      ],
      "metadata": {
        "colab": {
          "base_uri": "https://localhost:8080/"
        },
        "id": "T8NROkfHuw-9",
        "outputId": "927844b5-28fe-4ac5-f8a6-3a6bf84cb851"
      },
      "execution_count": 25,
      "outputs": [
        {
          "output_type": "stream",
          "name": "stdout",
          "text": [
            "Numpy Array:\n",
            " [1 2 3 4]\n"
          ]
        }
      ]
    },
    {
      "cell_type": "markdown",
      "source": [
        "Problem 2 : Array Manipulation"
      ],
      "metadata": {
        "id": "rIPCAoG6u17d"
      }
    },
    {
      "cell_type": "markdown",
      "source": [
        "Task 1 : Create an array with values ranging from 10 to 49."
      ],
      "metadata": {
        "id": "bxhsW2IJu7Tb"
      }
    },
    {
      "cell_type": "code",
      "source": [
        "array_range = np.arange(10, 50)\n",
        "print(\"Array with values from 10 to 49:\\n\", array_range)"
      ],
      "metadata": {
        "colab": {
          "base_uri": "https://localhost:8080/"
        },
        "id": "260r67vNvCRs",
        "outputId": "35c6256f-0167-4559-c73f-0124f8e595de"
      },
      "execution_count": 26,
      "outputs": [
        {
          "output_type": "stream",
          "name": "stdout",
          "text": [
            "Array with values from 10 to 49:\n",
            " [10 11 12 13 14 15 16 17 18 19 20 21 22 23 24 25 26 27 28 29 30 31 32 33\n",
            " 34 35 36 37 38 39 40 41 42 43 44 45 46 47 48 49]\n"
          ]
        }
      ]
    },
    {
      "cell_type": "markdown",
      "source": [
        "Task 2 : Create a 3*3 matrix with values ranging form 0 to 8."
      ],
      "metadata": {
        "id": "dchqRFHUvF6A"
      }
    },
    {
      "cell_type": "code",
      "source": [
        "matrix_3x3 = np.arange(9).reshape(3, 3)\n",
        "print(\"3x3 Matrix with values from 0 to 8:\\n\", matrix_3x3)"
      ],
      "metadata": {
        "colab": {
          "base_uri": "https://localhost:8080/"
        },
        "id": "L5jOwLoIvQSZ",
        "outputId": "04fadf80-fc57-4ecf-bdb0-003ef35fd1f0"
      },
      "execution_count": 28,
      "outputs": [
        {
          "output_type": "stream",
          "name": "stdout",
          "text": [
            "3x3 Matrix with values from 0 to 8:\n",
            " [[0 1 2]\n",
            " [3 4 5]\n",
            " [6 7 8]]\n"
          ]
        }
      ]
    },
    {
      "cell_type": "markdown",
      "source": [
        "Task 3 : Create a 3*3 identity matrix."
      ],
      "metadata": {
        "id": "CpdgMFLivahT"
      }
    },
    {
      "cell_type": "code",
      "source": [
        "identity_matrix = np.eye(3)\n",
        "print(\"3x3 Identity Matrix:\\n\", identity_matrix)\n"
      ],
      "metadata": {
        "colab": {
          "base_uri": "https://localhost:8080/"
        },
        "id": "9jEoGEhHvfuU",
        "outputId": "412b41bd-6a20-40cd-85a5-5914ece593c4"
      },
      "execution_count": 29,
      "outputs": [
        {
          "output_type": "stream",
          "name": "stdout",
          "text": [
            "3x3 Identity Matrix:\n",
            " [[1. 0. 0.]\n",
            " [0. 1. 0.]\n",
            " [0. 0. 1.]]\n"
          ]
        }
      ]
    },
    {
      "cell_type": "markdown",
      "source": [
        "Task 4 : Create a random array of size 30 and find the mean of the array."
      ],
      "metadata": {
        "id": "NjLSs068vkOh"
      }
    },
    {
      "cell_type": "code",
      "source": [
        "random_array = np.random.random(30)\n",
        "mean_value = random_array.mean()\n",
        "print(\"Mean of Random Array:\", mean_value)\n"
      ],
      "metadata": {
        "colab": {
          "base_uri": "https://localhost:8080/"
        },
        "id": "YbbE8E4DvsqA",
        "outputId": "ef46b081-3a81-4256-ee09-5f1c3b649dab"
      },
      "execution_count": 30,
      "outputs": [
        {
          "output_type": "stream",
          "name": "stdout",
          "text": [
            "Mean of Random Array: 0.44571760927801835\n"
          ]
        }
      ]
    },
    {
      "cell_type": "markdown",
      "source": [
        "Task 5 : Create a 10*10 array with random values and find the minimum and maximum values."
      ],
      "metadata": {
        "id": "xh73qB-CvwFY"
      }
    },
    {
      "cell_type": "code",
      "source": [
        "random_10x10 = np.random.random((10, 10))\n",
        "min_value = random_10x10.min()\n",
        "max_value = random_10x10.max()\n",
        "print(\"Minimum Value:\", min_value)\n",
        "print(\"Maximum Value:\", max_value)\n"
      ],
      "metadata": {
        "colab": {
          "base_uri": "https://localhost:8080/"
        },
        "id": "X60wRkj9v6bQ",
        "outputId": "6604e974-3975-4783-c2cb-95dc6ef8d8bb"
      },
      "execution_count": 31,
      "outputs": [
        {
          "output_type": "stream",
          "name": "stdout",
          "text": [
            "Minimum Value: 0.00023412251168808407\n",
            "Maximum Value: 0.9974606700578529\n"
          ]
        }
      ]
    },
    {
      "cell_type": "markdown",
      "source": [
        "Task 6 : Create a zero array of size 10 and replace the 5th element with 1."
      ],
      "metadata": {
        "id": "aFUczlYcv9eV"
      }
    },
    {
      "cell_type": "code",
      "source": [
        "zero_array = np.zeros(10)\n",
        "zero_array[4] = 1  # Index 4 corresponds to the 5th element\n",
        "print(\"Zero Array with 5th Element as 1:\\n\", zero_array)\n"
      ],
      "metadata": {
        "colab": {
          "base_uri": "https://localhost:8080/"
        },
        "id": "1zCzATxRwFuU",
        "outputId": "bc0a38c0-00a5-4296-a7a6-d7de1107a01f"
      },
      "execution_count": 32,
      "outputs": [
        {
          "output_type": "stream",
          "name": "stdout",
          "text": [
            "Zero Array with 5th Element as 1:\n",
            " [0. 0. 0. 0. 1. 0. 0. 0. 0. 0.]\n"
          ]
        }
      ]
    },
    {
      "cell_type": "markdown",
      "source": [
        "Task 7 : Reverse an array"
      ],
      "metadata": {
        "id": "m708QyAlwI5A"
      }
    },
    {
      "cell_type": "code",
      "source": [
        "arr = np.array([1, 2, 0, 0, 4, 0])\n",
        "reversed_arr = arr[::-1]\n",
        "print(\"Reversed Array:\\n\", reversed_arr)"
      ],
      "metadata": {
        "colab": {
          "base_uri": "https://localhost:8080/"
        },
        "id": "ybaCiCw6wPXs",
        "outputId": "4b403626-752b-47bc-eb6d-a08c9ffb4cfd"
      },
      "execution_count": 33,
      "outputs": [
        {
          "output_type": "stream",
          "name": "stdout",
          "text": [
            "Reversed Array:\n",
            " [0 4 0 0 2 1]\n"
          ]
        }
      ]
    },
    {
      "cell_type": "markdown",
      "source": [
        "Task 8 : Create a 2D array with 1 on the border and  inside:"
      ],
      "metadata": {
        "id": "CUDFrPgUwSEB"
      }
    },
    {
      "cell_type": "code",
      "source": [
        "border_array = np.ones((5, 5))\n",
        "border_array[1:-1, 1:-1] = 0\n",
        "print(\"2D Array with 1 on Border and 0 Inside:\\n\", border_array)"
      ],
      "metadata": {
        "colab": {
          "base_uri": "https://localhost:8080/"
        },
        "id": "WbnKQMQ2waL_",
        "outputId": "86376c08-48f5-441b-ea2c-c1893bb4c199"
      },
      "execution_count": 34,
      "outputs": [
        {
          "output_type": "stream",
          "name": "stdout",
          "text": [
            "2D Array with 1 on Border and 0 Inside:\n",
            " [[1. 1. 1. 1. 1.]\n",
            " [1. 0. 0. 0. 1.]\n",
            " [1. 0. 0. 0. 1.]\n",
            " [1. 0. 0. 0. 1.]\n",
            " [1. 1. 1. 1. 1.]]\n"
          ]
        }
      ]
    },
    {
      "cell_type": "markdown",
      "source": [
        "Task 9 : Create an 8*8 matrix and fill it with a checkboard pattern:"
      ],
      "metadata": {
        "id": "LRcxcCecwlTU"
      }
    },
    {
      "cell_type": "code",
      "source": [
        "checkerboard = np.zeros((8, 8))\n",
        "checkerboard[1::2, ::2] = 1\n",
        "checkerboard[::2, 1::2] = 1\n",
        "print(\"8x8 Checkerboard Pattern:\\n\", checkerboard)"
      ],
      "metadata": {
        "colab": {
          "base_uri": "https://localhost:8080/"
        },
        "id": "FnQO8DU0wuS1",
        "outputId": "ef96a40d-8e66-48a9-9b69-247d480dfcb5"
      },
      "execution_count": 35,
      "outputs": [
        {
          "output_type": "stream",
          "name": "stdout",
          "text": [
            "8x8 Checkerboard Pattern:\n",
            " [[0. 1. 0. 1. 0. 1. 0. 1.]\n",
            " [1. 0. 1. 0. 1. 0. 1. 0.]\n",
            " [0. 1. 0. 1. 0. 1. 0. 1.]\n",
            " [1. 0. 1. 0. 1. 0. 1. 0.]\n",
            " [0. 1. 0. 1. 0. 1. 0. 1.]\n",
            " [1. 0. 1. 0. 1. 0. 1. 0.]\n",
            " [0. 1. 0. 1. 0. 1. 0. 1.]\n",
            " [1. 0. 1. 0. 1. 0. 1. 0.]]\n"
          ]
        }
      ]
    },
    {
      "cell_type": "markdown",
      "source": [
        "Problem 3: Array Operations"
      ],
      "metadata": {
        "id": "tudJcxnDwyOX"
      }
    },
    {
      "cell_type": "markdown",
      "source": [
        "For the following arrays:"
      ],
      "metadata": {
        "id": "dSYXQJUBw2di"
      }
    },
    {
      "cell_type": "code",
      "source": [
        "x = np.array([[1, 2], [3, 5]])\n",
        "y = np.array([[5, 6], [7, 8]])\n",
        "v = np.array([9, 10])\n",
        "w = np.array([11, 12])"
      ],
      "metadata": {
        "id": "hTpNvOkkw51I"
      },
      "execution_count": 36,
      "outputs": []
    },
    {
      "cell_type": "markdown",
      "source": [
        "Task 1 : Add the two arrays x and y."
      ],
      "metadata": {
        "id": "HFPVYV-mw9rs"
      }
    },
    {
      "cell_type": "code",
      "source": [
        "sum_array = x + y\n",
        "print(\"Sum of Arrays x and y:\\n\", sum_array)"
      ],
      "metadata": {
        "colab": {
          "base_uri": "https://localhost:8080/"
        },
        "id": "ea8U6kjoxBiX",
        "outputId": "e94555cb-76d7-4c21-f87f-0fe96aa5ee9d"
      },
      "execution_count": 37,
      "outputs": [
        {
          "output_type": "stream",
          "name": "stdout",
          "text": [
            "Sum of Arrays x and y:\n",
            " [[ 6  8]\n",
            " [10 13]]\n"
          ]
        }
      ]
    },
    {
      "cell_type": "markdown",
      "source": [
        "Task 2 : Subtract the two arrays x and y."
      ],
      "metadata": {
        "id": "HJ5dEhD6xFdX"
      }
    },
    {
      "cell_type": "code",
      "source": [
        "diff_array = x - y\n",
        "print(\"Difference of Arrays x and y:\\n\", diff_array)"
      ],
      "metadata": {
        "colab": {
          "base_uri": "https://localhost:8080/"
        },
        "id": "Rx90YYTPxLiP",
        "outputId": "85961880-d766-4aaf-d3fc-463254aae042"
      },
      "execution_count": 38,
      "outputs": [
        {
          "output_type": "stream",
          "name": "stdout",
          "text": [
            "Difference of Arrays x and y:\n",
            " [[-4 -4]\n",
            " [-4 -3]]\n"
          ]
        }
      ]
    },
    {
      "cell_type": "markdown",
      "source": [
        "Task 3 : Multiply the array x with an integer of your choice."
      ],
      "metadata": {
        "id": "DbTtUWX0xNkv"
      }
    },
    {
      "cell_type": "code",
      "source": [
        "multiplied_array = x * 3  # Example with 3\n",
        "print(\"Array x Multiplied by 3:\\n\", multiplied_array)"
      ],
      "metadata": {
        "colab": {
          "base_uri": "https://localhost:8080/"
        },
        "id": "wOpLt87LxU_J",
        "outputId": "85ac33ba-181c-4a10-a133-b38072db35d2"
      },
      "execution_count": 39,
      "outputs": [
        {
          "output_type": "stream",
          "name": "stdout",
          "text": [
            "Array x Multiplied by 3:\n",
            " [[ 3  6]\n",
            " [ 9 15]]\n"
          ]
        }
      ]
    },
    {
      "cell_type": "markdown",
      "source": [
        "Task 4 : Find the square of each element of the array x.\n"
      ],
      "metadata": {
        "id": "IHFV-QL9xXtL"
      }
    },
    {
      "cell_type": "code",
      "source": [
        "squared_array = np.square(x)\n",
        "print(\"Square of Each Element in Array x:\\n\", squared_array)"
      ],
      "metadata": {
        "colab": {
          "base_uri": "https://localhost:8080/"
        },
        "id": "WGEEOUQexdIE",
        "outputId": "07658895-43f8-476b-b577-9ebd34378ea1"
      },
      "execution_count": 40,
      "outputs": [
        {
          "output_type": "stream",
          "name": "stdout",
          "text": [
            "Square of Each Element in Array x:\n",
            " [[ 1  4]\n",
            " [ 9 25]]\n"
          ]
        }
      ]
    },
    {
      "cell_type": "markdown",
      "source": [
        "Task 5 : Find the dot product."
      ],
      "metadata": {
        "id": "fswJxsdfxgGP"
      }
    },
    {
      "cell_type": "code",
      "source": [
        "dot_vw = np.dot(v, w)\n",
        "dot_xv = np.dot(x, v)\n",
        "dot_xy = np.dot(x, y)\n",
        "print(\"Dot product of v and w:\", dot_vw)\n",
        "print(\"Dot product of x and v:\\n\", dot_xv)\n",
        "print(\"Dot product of x and y:\\n\", dot_xy)"
      ],
      "metadata": {
        "colab": {
          "base_uri": "https://localhost:8080/"
        },
        "id": "i2EZ1a48xjIB",
        "outputId": "cbbb40d0-b9ca-460c-b699-82919bab1d49"
      },
      "execution_count": 41,
      "outputs": [
        {
          "output_type": "stream",
          "name": "stdout",
          "text": [
            "Dot product of v and w: 219\n",
            "Dot product of x and v:\n",
            " [29 77]\n",
            "Dot product of x and y:\n",
            " [[19 22]\n",
            " [50 58]]\n"
          ]
        }
      ]
    },
    {
      "cell_type": "markdown",
      "source": [
        "Task 6 : Concatenate x and y along roes and concatenate v and w along columns."
      ],
      "metadata": {
        "id": "NmdOFxSfxmFo"
      }
    },
    {
      "cell_type": "code",
      "source": [
        "concatenated_xy_row = np.concatenate((x, y), axis=0)\n",
        "concatenated_vw_col = np.concatenate((v[:, None], w[:, None]), axis=1)\n",
        "print(\"Concatenated x and y along rows:\\n\", concatenated_xy_row)\n",
        "print(\"Concatenated v and w along columns:\\n\", concatenated_vw_col)\n"
      ],
      "metadata": {
        "colab": {
          "base_uri": "https://localhost:8080/"
        },
        "id": "MwTNxswExxM3",
        "outputId": "8947777b-9b57-47e3-98c1-7b533fecc7d6"
      },
      "execution_count": 42,
      "outputs": [
        {
          "output_type": "stream",
          "name": "stdout",
          "text": [
            "Concatenated x and y along rows:\n",
            " [[1 2]\n",
            " [3 5]\n",
            " [5 6]\n",
            " [7 8]]\n",
            "Concatenated v and w along columns:\n",
            " [[ 9 11]\n",
            " [10 12]]\n"
          ]
        }
      ]
    },
    {
      "cell_type": "markdown",
      "source": [
        "Task 7 : Concatenate x and v:"
      ],
      "metadata": {
        "id": "XGYHUI8fxz9v"
      }
    },
    {
      "cell_type": "code",
      "source": [
        " ## np.concatenate((x, v))\n",
        "# This raises a value error because the dimensions does not match for conatenation"
      ],
      "metadata": {
        "id": "LgesnGbvx4AG"
      },
      "execution_count": 43,
      "outputs": []
    },
    {
      "cell_type": "markdown",
      "source": [
        "Problem 4 : Matrix Operations"
      ],
      "metadata": {
        "id": "34lavyXvx7dA"
      }
    },
    {
      "cell_type": "markdown",
      "source": [
        "For the following matrices:"
      ],
      "metadata": {
        "id": "j9VUUl5px_kp"
      }
    },
    {
      "cell_type": "code",
      "source": [
        "A = np.array([[3, 4], [7, 8]])\n",
        "B = np.array([[5, 3], [2, 1]])"
      ],
      "metadata": {
        "id": "aahPKMfFyD1L"
      },
      "execution_count": 44,
      "outputs": []
    },
    {
      "cell_type": "markdown",
      "source": [
        "Task 1 : Prove that A*A^(-1)=|."
      ],
      "metadata": {
        "id": "aUp5SOdpyGnC"
      }
    },
    {
      "cell_type": "code",
      "source": [
        "A_inv = np.linalg.inv(A)\n",
        "identity_matrix = np.dot(A, A_inv)\n",
        "print(\"A * A^(-1) = I:\\n\", identity_matrix)"
      ],
      "metadata": {
        "colab": {
          "base_uri": "https://localhost:8080/"
        },
        "id": "jvOTM-b-yPgT",
        "outputId": "cac5295f-726b-4551-ced1-5b2a051622a6"
      },
      "execution_count": 45,
      "outputs": [
        {
          "output_type": "stream",
          "name": "stdout",
          "text": [
            "A * A^(-1) = I:\n",
            " [[1.00000000e+00 0.00000000e+00]\n",
            " [1.77635684e-15 1.00000000e+00]]\n"
          ]
        }
      ]
    },
    {
      "cell_type": "markdown",
      "source": [
        "Task 2 : Prove that AB = BA."
      ],
      "metadata": {
        "id": "PgDT0YhFySsK"
      }
    },
    {
      "cell_type": "code",
      "source": [
        "AB = np.dot(A, B)\n",
        "BA = np.dot(B, A)\n",
        "print(\"AB:\\n\", AB)\n",
        "print(\"BA:\\n\", BA)"
      ],
      "metadata": {
        "colab": {
          "base_uri": "https://localhost:8080/"
        },
        "id": "1yGCtD8NyYNl",
        "outputId": "f6542802-9c83-4458-d40a-1545850e578a"
      },
      "execution_count": 46,
      "outputs": [
        {
          "output_type": "stream",
          "name": "stdout",
          "text": [
            "AB:\n",
            " [[23 13]\n",
            " [51 29]]\n",
            "BA:\n",
            " [[36 44]\n",
            " [13 16]]\n"
          ]
        }
      ]
    },
    {
      "cell_type": "markdown",
      "source": [
        "Task 3 : Prove thar (AB)^T = B^T*A^T."
      ],
      "metadata": {
        "id": "jBKxVrJWyaJN"
      }
    },
    {
      "cell_type": "code",
      "source": [
        "transpose_AB = np.transpose(np.dot(A, B))\n",
        "transpose_BA = np.dot(np.transpose(B), np.transpose(A))\n",
        "print(\"(AB)^T:\\n\", transpose_AB)\n",
        "print(\"B^T * A^T:\\n\", transpose_BA)"
      ],
      "metadata": {
        "colab": {
          "base_uri": "https://localhost:8080/"
        },
        "id": "QnzEED_ryjBM",
        "outputId": "f9120656-c5d0-45f9-e318-391ef0b79789"
      },
      "execution_count": 47,
      "outputs": [
        {
          "output_type": "stream",
          "name": "stdout",
          "text": [
            "(AB)^T:\n",
            " [[23 51]\n",
            " [13 29]]\n",
            "B^T * A^T:\n",
            " [[23 51]\n",
            " [13 29]]\n"
          ]
        }
      ]
    },
    {
      "cell_type": "markdown",
      "source": [
        "Task 4 : Solve the system of linear equations using inverse methods."
      ],
      "metadata": {
        "id": "ZxwSbBEUylmU"
      }
    },
    {
      "cell_type": "code",
      "source": [
        "A_eq = np.array([[2, -3, 1], [1, -1, 2], [3, 1, -1]])\n",
        "B_eq = np.array([-1, -3, 9])\n",
        "\n",
        "X = np.linalg.inv(A_eq).dot(B_eq)\n",
        "print(\"Solution using Inverse Method:\", X)"
      ],
      "metadata": {
        "colab": {
          "base_uri": "https://localhost:8080/"
        },
        "id": "eozrbsZsyxLD",
        "outputId": "a08f7c89-d3f1-4bb9-935d-ddeabc4c437d"
      },
      "execution_count": 51,
      "outputs": [
        {
          "output_type": "stream",
          "name": "stdout",
          "text": [
            "Solution using Inverse Method: [ 2.  1. -2.]\n"
          ]
        }
      ]
    },
    {
      "cell_type": "markdown",
      "source": [
        "Problem 5 : How Fast is Numpy?"
      ],
      "metadata": {
        "id": "OzQTd3a0zAbY"
      }
    },
    {
      "cell_type": "markdown",
      "source": [
        "Task 1 : Element-wise Addition:"
      ],
      "metadata": {
        "id": "vrzv5RXrzHry"
      }
    },
    {
      "cell_type": "code",
      "source": [
        "import time\n",
        "\n",
        "# Using Python Lists\n",
        "list1 = [i for i in range(1000000)]\n",
        "list2 = [i for i in range(1000000)]\n",
        "start_time = time.time()\n",
        "list_addition = [list1[i] + list2[i] for i in range(1000000)]\n",
        "print(\"Python List Addition Time:\", time.time() - start_time)\n",
        "\n",
        "# Using NumPy Arrays\n",
        "array1 = np.array(list1)\n",
        "array2 = np.array(list2)\n",
        "start_time = time.time()\n",
        "numpy_addition = array1 + array2\n",
        "print(\"NumPy Array Addition Time:\", time.time() - start_time)\n"
      ],
      "metadata": {
        "colab": {
          "base_uri": "https://localhost:8080/"
        },
        "id": "sNAmwOdVzNTz",
        "outputId": "992cd5c7-cb33-47ae-afba-ab659d7f8ad4"
      },
      "execution_count": 52,
      "outputs": [
        {
          "output_type": "stream",
          "name": "stdout",
          "text": [
            "Python List Addition Time: 0.15365219116210938\n",
            "NumPy Array Addition Time: 0.00990915298461914\n"
          ]
        }
      ]
    },
    {
      "cell_type": "markdown",
      "source": [
        "Task 2 : Element-wise Multiplication."
      ],
      "metadata": {
        "id": "o0-IpBcyzQtt"
      }
    },
    {
      "cell_type": "code",
      "source": [
        "# Using Python Lists\n",
        "start_time = time.time()\n",
        "list_multiplication = [list1[i] * list2[i] for i in range(1000000)]\n",
        "print(\"Python List Multiplication Time:\", time.time() - start_time)\n",
        "\n",
        "# Using NumPy Arrays\n",
        "start_time = time.time()\n",
        "numpy_multiplication = array1 * array2\n",
        "print(\"NumPy Array Multiplication Time:\", time.time() - start_time)\n"
      ],
      "metadata": {
        "colab": {
          "base_uri": "https://localhost:8080/"
        },
        "id": "n0dDJzbkzU5T",
        "outputId": "c5e9deba-066e-48c0-cd29-587a16b8140e"
      },
      "execution_count": 53,
      "outputs": [
        {
          "output_type": "stream",
          "name": "stdout",
          "text": [
            "Python List Multiplication Time: 0.09975600242614746\n",
            "NumPy Array Multiplication Time: 0.007064104080200195\n"
          ]
        }
      ]
    },
    {
      "cell_type": "markdown",
      "source": [
        "Task 3: Dot Product:"
      ],
      "metadata": {
        "id": "Lba-cuOpzYU1"
      }
    },
    {
      "cell_type": "code",
      "source": [
        "# Using Python Lists\n",
        "start_time = time.time()\n",
        "dot_product_list = sum(list1[i] * list2[i] for i in range(1000000))\n",
        "print(\"Python List Dot Product Time:\", time.time() - start_time)\n",
        "\n",
        "# Using NumPy Arrays\n",
        "start_time = time.time()\n",
        "dot_product_numpy = np.dot(array1, array2)\n",
        "print(\"NumPy Array Dot Product Time:\", time.time() - start_time)\n"
      ],
      "metadata": {
        "colab": {
          "base_uri": "https://localhost:8080/"
        },
        "id": "WX437nj0zdbd",
        "outputId": "65eb577a-accd-4ff5-d6f4-f7366da9703a"
      },
      "execution_count": 54,
      "outputs": [
        {
          "output_type": "stream",
          "name": "stdout",
          "text": [
            "Python List Dot Product Time: 0.19109797477722168\n",
            "NumPy Array Dot Product Time: 0.002837657928466797\n"
          ]
        }
      ]
    },
    {
      "cell_type": "markdown",
      "source": [
        "Task 4 : Matrix Multiplication"
      ],
      "metadata": {
        "id": "ONTwJZ_6zf9P"
      }
    },
    {
      "cell_type": "code",
      "source": [
        "import time\n",
        "import numpy as np\n",
        "\n",
        "# Using Python Lists\n",
        "matrix1 = [[i for i in range(1000)] for j in range(1000)]\n",
        "matrix2 = [[i for i in range(1000)] for j in range(1000)]\n",
        "start_time = time.time()\n",
        "matrix_multiplication_list = [[sum(matrix1[i][k] * matrix2[k][j] for k in range(1000)) for j in range(1000)] for i in range(1000)]\n",
        "print(\"Python List Matrix Multiplication Time:\", time.time() - start_time)\n",
        "\n",
        "# Using NumPy Arrays\n",
        "matrix1_numpy = np.random.random((1000, 1000))\n",
        "matrix2_numpy = np.random.random((1000, 1000))\n",
        "start_time = time.time()\n",
        "matrix_multiplication_numpy = np.dot(matrix1_numpy, matrix2_numpy)\n",
        "print(\"NumPy Array Matrix Multiplication Time:\", time.time() - start_time)"
      ],
      "metadata": {
        "colab": {
          "base_uri": "https://localhost:8080/"
        },
        "id": "Zx9okGwXzjZ_",
        "outputId": "9958071b-5e00-4345-e63f-8d38317be719"
      },
      "execution_count": 55,
      "outputs": [
        {
          "output_type": "stream",
          "name": "stdout",
          "text": [
            "Python List Matrix Multiplication Time: 192.1754186153412\n",
            "NumPy Array Matrix Multiplication Time: 0.06320023536682129\n"
          ]
        }
      ]
    }
  ]
}